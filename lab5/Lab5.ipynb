{
  "cells": [
    {
      "cell_type": "code",
      "execution_count": 11,
      "id": "e14cbb7c-e35d-4b6c-8afa-989c6cf95959",
      "metadata": {
        "id": "e14cbb7c-e35d-4b6c-8afa-989c6cf95959"
      },
      "outputs": [],
      "source": [
        "import numpy as np\n",
        "import pandas as pd\n",
        "import tensorflow as tf\n",
        "from tensorflow import keras\n",
        "from keras.layers import SimpleRNN\n",
        "from keras import layers\n",
        "from sklearn.model_selection import train_test_split\n",
        "from sklearn.preprocessing import LabelEncoder"
      ]
    },
    {
      "cell_type": "markdown",
      "source": [
        "## Подготовка датасета"
      ],
      "metadata": {
        "id": "KxtEuC1q72Wf"
      },
      "id": "KxtEuC1q72Wf"
    },
    {
      "cell_type": "code",
      "execution_count": 12,
      "id": "0e7a8541-0a54-4cab-8ee0-13956bdabc33",
      "metadata": {
        "id": "0e7a8541-0a54-4cab-8ee0-13956bdabc33",
        "outputId": "27de0c12-d47f-48e2-ec58-3b1f1940da74",
        "colab": {
          "base_uri": "https://localhost:8080/"
        }
      },
      "outputs": [
        {
          "output_type": "stream",
          "name": "stdout",
          "text": [
            "                                                 Lyric  language\n",
            "0    Tudo o que eu quero nessa vida,\\r\\nToda vida, ...         2\n",
            "1    Meu coração\\r\\nSem direção\\r\\nVoando só por vo...         2\n",
            "2    É de babaixá!\\r\\nÉ de balacubaca!\\r\\nÉ de baba...         2\n",
            "3    Quando a chuva passar\\r\\n\\r\\nPra quê falar\\r\\n...         2\n",
            "4    A minha sorte grande foi você cair do céu\\r\\nM...         2\n",
            "..                                                 ...       ...\n",
            "125  Que falta eu sinto de um bem\\r\\nQue falta me f...         2\n",
            "126  Eu tô vendo\\r\\nVocê tá balançando\\r\\nTô sentin...         2\n",
            "127  Olha quem chegou\\r\\nNesse calor eu sei que vou...         2\n",
            "128  Meu amor olha só hoje o sol não apareceu\\r\\nÉ ...         2\n",
            "129  Faço qualquer negócio pra te ver na avenida ou...         2\n",
            "\n",
            "[130 rows x 2 columns]\n"
          ]
        }
      ],
      "source": [
        "data = pd.read_csv(\"file.csv\", sep=',')\n",
        "x = data['Lyric']\n",
        "y = data['language']\n",
        "encoder = LabelEncoder()\n",
        "y = encoder.fit_transform(y)\n",
        "data = pd.DataFrame(x)\n",
        "data['language'] = y\n",
        "print(data)\n",
        "train, test = train_test_split(data, test_size=0.2, random_state=42)"
      ]
    },
    {
      "cell_type": "code",
      "execution_count": 13,
      "id": "0a031aa3-1918-4fb8-a00f-30aa213f3524",
      "metadata": {
        "id": "0a031aa3-1918-4fb8-a00f-30aa213f3524"
      },
      "outputs": [],
      "source": [
        "x = train[\"Lyric\"]\n",
        "y = train[\"language\"]\n",
        "x = np.asarray(x).astype(np.str_)\n",
        "y = np.asarray(y).astype(np.float32)\n",
        "test_x = test[\"Lyric\"]\n",
        "test_y = test[\"language\"]\n",
        "test_x = np.asarray(test_x).astype(np.str_)\n",
        "test_y = np.asarray(test_y).astype(np.float32)"
      ]
    },
    {
      "cell_type": "markdown",
      "source": [
        "## Посимвольная векторизация"
      ],
      "metadata": {
        "id": "MA0k82m-76Gn"
      },
      "id": "MA0k82m-76Gn"
    },
    {
      "cell_type": "code",
      "execution_count": 14,
      "id": "8aabb6d3-2e6c-498b-aa27-b7484d42948d",
      "metadata": {
        "id": "8aabb6d3-2e6c-498b-aa27-b7484d42948d",
        "outputId": "8f4175f5-afc3-49af-d1ef-66c6f7f27793",
        "colab": {
          "base_uri": "https://localhost:8080/"
        }
      },
      "outputs": [
        {
          "output_type": "stream",
          "name": "stdout",
          "text": [
            "Training vectorizer\n"
          ]
        }
      ],
      "source": [
        "vectorizer = tf.keras.layers.TextVectorization(split='character')\n",
        "\n",
        "print('Training vectorizer')\n",
        "vectorizer.adapt(list(train[\"Lyric\"]))"
      ]
    },
    {
      "cell_type": "markdown",
      "source": [
        "## SimpleRNN модель"
      ],
      "metadata": {
        "id": "LzPEeh7Y7-ty"
      },
      "id": "LzPEeh7Y7-ty"
    },
    {
      "cell_type": "code",
      "execution_count": 15,
      "id": "b65676bc-5394-43e1-8663-5b7916b63e10",
      "metadata": {
        "id": "b65676bc-5394-43e1-8663-5b7916b63e10",
        "outputId": "06351ace-de7f-4e7c-c8fc-644299c096db",
        "colab": {
          "base_uri": "https://localhost:8080/"
        }
      },
      "outputs": [
        {
          "output_type": "stream",
          "name": "stdout",
          "text": [
            "Model: \"sequential_2\"\n",
            "_________________________________________________________________\n",
            " Layer (type)                Output Shape              Param #   \n",
            "=================================================================\n",
            " text_vectorization_3 (TextV  (None, None)             0         \n",
            " ectorization)                                                   \n",
            "                                                                 \n",
            " embedding_2 (Embedding)     (None, None, 8)           800000    \n",
            "                                                                 \n",
            " simple_rnn_2 (SimpleRNN)    (None, 4)                 52        \n",
            "                                                                 \n",
            " dense_2 (Dense)             (None, 100)               500       \n",
            "                                                                 \n",
            "=================================================================\n",
            "Total params: 800,552\n",
            "Trainable params: 800,552\n",
            "Non-trainable params: 0\n",
            "_________________________________________________________________\n"
          ]
        }
      ],
      "source": [
        "model = keras.Sequential()\n",
        "model.add(vectorizer)\n",
        "model.add(layers.Embedding(input_dim=100000, output_dim=8))\n",
        "model.add(layers.SimpleRNN(4))\n",
        "model.add(layers.Dense(100, activation = 'relu'))\n",
        "model.summary()"
      ]
    },
    {
      "cell_type": "code",
      "execution_count": 16,
      "id": "9f36e57d-67bf-4706-ac5f-9349accda9cf",
      "metadata": {
        "id": "9f36e57d-67bf-4706-ac5f-9349accda9cf",
        "outputId": "dc5170ba-0f81-4260-d663-e031027bd9ef",
        "colab": {
          "base_uri": "https://localhost:8080/"
        }
      },
      "outputs": [
        {
          "output_type": "stream",
          "name": "stdout",
          "text": [
            "Epoch 1/10\n",
            "2/2 [==============================] - 3s 891ms/step - loss: 4.5583 - acc: 0.0000e+00 - val_loss: 4.4957 - val_acc: 0.0385\n",
            "Epoch 2/10\n",
            "2/2 [==============================] - 1s 522ms/step - loss: 4.4801 - acc: 0.0192 - val_loss: 4.4139 - val_acc: 0.0769\n",
            "Epoch 3/10\n",
            "2/2 [==============================] - 1s 517ms/step - loss: 4.3980 - acc: 0.3654 - val_loss: 4.3293 - val_acc: 0.9615\n",
            "Epoch 4/10\n",
            "2/2 [==============================] - 1s 360ms/step - loss: 4.3147 - acc: 0.9327 - val_loss: 4.2390 - val_acc: 0.9615\n",
            "Epoch 5/10\n",
            "2/2 [==============================] - 1s 501ms/step - loss: 4.2202 - acc: 0.9327 - val_loss: 4.1402 - val_acc: 0.9615\n",
            "Epoch 6/10\n",
            "2/2 [==============================] - 1s 448ms/step - loss: 4.1203 - acc: 0.9327 - val_loss: 4.0336 - val_acc: 0.9615\n",
            "Epoch 7/10\n",
            "2/2 [==============================] - 1s 488ms/step - loss: 4.0138 - acc: 0.9327 - val_loss: 3.9215 - val_acc: 0.9615\n",
            "Epoch 8/10\n",
            "2/2 [==============================] - 1s 533ms/step - loss: 3.9013 - acc: 0.9327 - val_loss: 3.8090 - val_acc: 0.9615\n",
            "Epoch 9/10\n",
            "2/2 [==============================] - 1s 505ms/step - loss: 3.7904 - acc: 0.9327 - val_loss: 3.6998 - val_acc: 0.9615\n",
            "Epoch 10/10\n",
            "2/2 [==============================] - 1s 510ms/step - loss: 3.6837 - acc: 0.9327 - val_loss: 3.5957 - val_acc: 0.9615\n"
          ]
        }
      ],
      "source": [
        "model.compile(keras.optimizers.Adam(0.01), keras.losses.SparseCategoricalCrossentropy(from_logits=True), ['acc'])\n",
        "train_model = model.fit(x=x, y=y, batch_size=64, epochs = 10, validation_data=(test_x, test_y))"
      ]
    },
    {
      "cell_type": "markdown",
      "source": [
        "## Пословная токенизация"
      ],
      "metadata": {
        "id": "L8FljHCf8C-L"
      },
      "id": "L8FljHCf8C-L"
    },
    {
      "cell_type": "code",
      "execution_count": 17,
      "id": "69c95938-3c64-4044-bcab-0c39a638c173",
      "metadata": {
        "id": "69c95938-3c64-4044-bcab-0c39a638c173",
        "outputId": "e30053c3-63f1-4d11-d402-36c8269057f2",
        "colab": {
          "base_uri": "https://localhost:8080/"
        }
      },
      "outputs": [
        {
          "output_type": "stream",
          "name": "stdout",
          "text": [
            "Training vectorizer\n"
          ]
        }
      ],
      "source": [
        "vectorizer = tf.keras.layers.TextVectorization(split='whitespace')\n",
        "\n",
        "print('Training vectorizer')\n",
        "vectorizer.adapt(list(train[\"Lyric\"]))"
      ]
    },
    {
      "cell_type": "markdown",
      "source": [
        "## SimpleRNN модель"
      ],
      "metadata": {
        "id": "758th9j68JyC"
      },
      "id": "758th9j68JyC"
    },
    {
      "cell_type": "code",
      "execution_count": 18,
      "id": "5ab422fb-4188-4707-8001-2459b81672a2",
      "metadata": {
        "id": "5ab422fb-4188-4707-8001-2459b81672a2",
        "outputId": "49b6511b-8f9a-4e00-e20a-b9bc1136375b",
        "colab": {
          "base_uri": "https://localhost:8080/"
        }
      },
      "outputs": [
        {
          "output_type": "stream",
          "name": "stdout",
          "text": [
            "Model: \"sequential_3\"\n",
            "_________________________________________________________________\n",
            " Layer (type)                Output Shape              Param #   \n",
            "=================================================================\n",
            " text_vectorization_4 (TextV  (None, None)             0         \n",
            " ectorization)                                                   \n",
            "                                                                 \n",
            " embedding_3 (Embedding)     (None, None, 64)          6400000   \n",
            "                                                                 \n",
            " simple_rnn_3 (SimpleRNN)    (None, 4)                 276       \n",
            "                                                                 \n",
            " dense_3 (Dense)             (None, 100)               500       \n",
            "                                                                 \n",
            "=================================================================\n",
            "Total params: 6,400,776\n",
            "Trainable params: 6,400,776\n",
            "Non-trainable params: 0\n",
            "_________________________________________________________________\n"
          ]
        }
      ],
      "source": [
        "model = keras.Sequential()\n",
        "model.add(vectorizer)\n",
        "model.add(layers.Embedding(input_dim=100000, output_dim=64, mask_zero=True))\n",
        "model.add(layers.SimpleRNN(4))\n",
        "model.add(layers.Dense(100, activation = 'tanh'))\n",
        "model.summary()"
      ]
    },
    {
      "cell_type": "code",
      "execution_count": 19,
      "id": "f68487dd-e72f-44d3-bab5-e2f3bd61319f",
      "metadata": {
        "id": "f68487dd-e72f-44d3-bab5-e2f3bd61319f",
        "outputId": "88415b88-3f1a-4851-ce6f-1ead9b9aae9a",
        "colab": {
          "base_uri": "https://localhost:8080/"
        }
      },
      "outputs": [
        {
          "output_type": "stream",
          "name": "stdout",
          "text": [
            "Epoch 1/10\n",
            "2/2 [==============================] - 2s 685ms/step - loss: 4.5951 - acc: 0.0096 - val_loss: 4.5474 - val_acc: 0.0385\n",
            "Epoch 2/10\n",
            "2/2 [==============================] - 1s 372ms/step - loss: 4.4359 - acc: 0.0577 - val_loss: 4.4615 - val_acc: 0.1923\n",
            "Epoch 3/10\n",
            "2/2 [==============================] - 0s 165ms/step - loss: 4.3055 - acc: 0.6346 - val_loss: 4.3548 - val_acc: 0.6154\n",
            "Epoch 4/10\n",
            "2/2 [==============================] - 0s 170ms/step - loss: 4.1613 - acc: 0.9231 - val_loss: 4.2296 - val_acc: 0.7308\n",
            "Epoch 5/10\n",
            "2/2 [==============================] - 0s 159ms/step - loss: 4.0033 - acc: 0.9615 - val_loss: 4.0918 - val_acc: 0.8462\n",
            "Epoch 6/10\n",
            "2/2 [==============================] - 0s 156ms/step - loss: 3.8381 - acc: 1.0000 - val_loss: 3.9542 - val_acc: 0.8462\n",
            "Epoch 7/10\n",
            "2/2 [==============================] - 0s 154ms/step - loss: 3.6783 - acc: 1.0000 - val_loss: 3.8176 - val_acc: 0.9231\n",
            "Epoch 8/10\n",
            "2/2 [==============================] - 0s 169ms/step - loss: 3.5317 - acc: 0.9904 - val_loss: 3.6881 - val_acc: 0.9231\n",
            "Epoch 9/10\n",
            "2/2 [==============================] - 0s 160ms/step - loss: 3.4021 - acc: 0.9904 - val_loss: 3.5711 - val_acc: 0.9231\n",
            "Epoch 10/10\n",
            "2/2 [==============================] - 0s 169ms/step - loss: 3.2916 - acc: 0.9808 - val_loss: 3.4667 - val_acc: 0.9231\n"
          ]
        }
      ],
      "source": [
        "model.compile(keras.optimizers.Adam(0.01), keras.losses.SparseCategoricalCrossentropy(from_logits=True), ['acc'])\n",
        "train_model = model.fit(x=x, y=y, batch_size=64, epochs = 10, validation_data=(test_x, test_y))"
      ]
    },
    {
      "cell_type": "markdown",
      "source": [
        "## LSTM"
      ],
      "metadata": {
        "id": "zIE8iEMhxpcJ"
      },
      "id": "zIE8iEMhxpcJ"
    },
    {
      "cell_type": "markdown",
      "source": [
        "## Подготовка датасета"
      ],
      "metadata": {
        "id": "MXh-ymvzyrcS"
      },
      "id": "MXh-ymvzyrcS"
    },
    {
      "cell_type": "code",
      "source": [
        "data = pd.read_csv(\"file.csv\")\n",
        "x = data['Lyric']\n",
        "y = data['language']\n",
        "encoder = LabelEncoder()\n",
        "y = encoder.fit_transform(y)\n",
        "data = pd.DataFrame(x)\n",
        "data['language'] = y\n",
        "print(data)\n",
        "train, test = train_test_split(data, test_size=0.2, random_state=42)"
      ],
      "metadata": {
        "colab": {
          "base_uri": "https://localhost:8080/"
        },
        "id": "Pav8i954ykpD",
        "outputId": "c4502bd2-a290-43a8-b945-cfafd3396b15"
      },
      "id": "Pav8i954ykpD",
      "execution_count": 20,
      "outputs": [
        {
          "output_type": "stream",
          "name": "stdout",
          "text": [
            "                                                 Lyric  language\n",
            "0    Tudo o que eu quero nessa vida,\\r\\nToda vida, ...         2\n",
            "1    Meu coração\\r\\nSem direção\\r\\nVoando só por vo...         2\n",
            "2    É de babaixá!\\r\\nÉ de balacubaca!\\r\\nÉ de baba...         2\n",
            "3    Quando a chuva passar\\r\\n\\r\\nPra quê falar\\r\\n...         2\n",
            "4    A minha sorte grande foi você cair do céu\\r\\nM...         2\n",
            "..                                                 ...       ...\n",
            "125  Que falta eu sinto de um bem\\r\\nQue falta me f...         2\n",
            "126  Eu tô vendo\\r\\nVocê tá balançando\\r\\nTô sentin...         2\n",
            "127  Olha quem chegou\\r\\nNesse calor eu sei que vou...         2\n",
            "128  Meu amor olha só hoje o sol não apareceu\\r\\nÉ ...         2\n",
            "129  Faço qualquer negócio pra te ver na avenida ou...         2\n",
            "\n",
            "[130 rows x 2 columns]\n"
          ]
        }
      ]
    },
    {
      "cell_type": "code",
      "source": [
        "x = train[\"Lyric\"]\n",
        "y = train[\"language\"]\n",
        "x = np.asarray(x).astype(np.str_)\n",
        "y = np.asarray(y).astype(np.float32)\n",
        "test_x = test[\"Lyric\"]\n",
        "test_y = test[\"language\"]\n",
        "test_x = np.asarray(test_x).astype(np.str_)\n",
        "test_y = np.asarray(test_y).astype(np.float32)"
      ],
      "metadata": {
        "id": "5WjWucNcyvUL"
      },
      "id": "5WjWucNcyvUL",
      "execution_count": 21,
      "outputs": []
    },
    {
      "cell_type": "markdown",
      "source": [
        "## Посимвольная векторизация"
      ],
      "metadata": {
        "id": "jqZuSY7Tyw3b"
      },
      "id": "jqZuSY7Tyw3b"
    },
    {
      "cell_type": "code",
      "source": [
        "vectorizer = tf.keras.layers.TextVectorization(split='character')\n",
        "\n",
        "print('Training vectorizer')\n",
        "vectorizer.adapt(list(train[\"Lyric\"]))"
      ],
      "metadata": {
        "colab": {
          "base_uri": "https://localhost:8080/"
        },
        "id": "qyE4ya_Ly1pc",
        "outputId": "d97cf4be-e81a-4562-8ea8-b41e9b1c62f6"
      },
      "id": "qyE4ya_Ly1pc",
      "execution_count": 22,
      "outputs": [
        {
          "output_type": "stream",
          "name": "stdout",
          "text": [
            "Training vectorizer\n"
          ]
        }
      ]
    },
    {
      "cell_type": "markdown",
      "source": [
        "## Однослойная LSTM-модель"
      ],
      "metadata": {
        "id": "BF4K1y1Py5UF"
      },
      "id": "BF4K1y1Py5UF"
    },
    {
      "cell_type": "code",
      "source": [
        "model = keras.Sequential()\n",
        "model.add(vectorizer)\n",
        "model.add(layers.Embedding(input_dim=40000, output_dim=8, mask_zero=True))\n",
        "model.add(layers.LSTM(4))\n",
        "model.add(layers.Dense(100, activation = 'tanh'))\n",
        "model.summary()"
      ],
      "metadata": {
        "colab": {
          "base_uri": "https://localhost:8080/"
        },
        "id": "IQgpcGNmy6C8",
        "outputId": "157856b6-f5bf-443b-b4d5-df6036129b3e"
      },
      "id": "IQgpcGNmy6C8",
      "execution_count": 23,
      "outputs": [
        {
          "output_type": "stream",
          "name": "stdout",
          "text": [
            "Model: \"sequential_4\"\n",
            "_________________________________________________________________\n",
            " Layer (type)                Output Shape              Param #   \n",
            "=================================================================\n",
            " text_vectorization_5 (TextV  (None, None)             0         \n",
            " ectorization)                                                   \n",
            "                                                                 \n",
            " embedding_4 (Embedding)     (None, None, 8)           320000    \n",
            "                                                                 \n",
            " lstm (LSTM)                 (None, 4)                 208       \n",
            "                                                                 \n",
            " dense_4 (Dense)             (None, 100)               500       \n",
            "                                                                 \n",
            "=================================================================\n",
            "Total params: 320,708\n",
            "Trainable params: 320,708\n",
            "Non-trainable params: 0\n",
            "_________________________________________________________________\n"
          ]
        }
      ]
    },
    {
      "cell_type": "code",
      "source": [
        "model.compile(keras.optimizers.Adam(0.1), keras.losses.SparseCategoricalCrossentropy(from_logits=True), ['acc'])\n",
        "train_model = model.fit(x=x, y=y, batch_size=64, epochs = 10, validation_data=(test_x, test_y))"
      ],
      "metadata": {
        "colab": {
          "base_uri": "https://localhost:8080/"
        },
        "id": "4jjIIKxRy9ge",
        "outputId": "ff1ed0c5-e149-4366-bc0e-e13057dc0f71"
      },
      "id": "4jjIIKxRy9ge",
      "execution_count": 24,
      "outputs": [
        {
          "output_type": "stream",
          "name": "stdout",
          "text": [
            "Epoch 1/10\n",
            "2/2 [==============================] - 6s 2s/step - loss: 4.4711 - acc: 0.3558 - val_loss: 3.7116 - val_acc: 0.9615\n",
            "Epoch 2/10\n",
            "2/2 [==============================] - 2s 1s/step - loss: 3.5669 - acc: 0.9327 - val_loss: 3.0300 - val_acc: 0.9615\n",
            "Epoch 3/10\n",
            "2/2 [==============================] - 2s 858ms/step - loss: 2.9876 - acc: 0.9327 - val_loss: 2.8276 - val_acc: 0.9615\n",
            "Epoch 4/10\n",
            "2/2 [==============================] - 2s 878ms/step - loss: 2.8207 - acc: 0.9327 - val_loss: 2.7849 - val_acc: 0.9615\n",
            "Epoch 5/10\n",
            "2/2 [==============================] - 2s 906ms/step - loss: 2.7838 - acc: 0.9327 - val_loss: 2.7732 - val_acc: 0.9615\n",
            "Epoch 6/10\n",
            "2/2 [==============================] - 2s 873ms/step - loss: 2.7731 - acc: 0.9327 - val_loss: 2.7697 - val_acc: 0.9615\n",
            "Epoch 7/10\n",
            "2/2 [==============================] - 2s 906ms/step - loss: 2.7670 - acc: 0.9327 - val_loss: 2.7684 - val_acc: 0.9615\n",
            "Epoch 8/10\n",
            "2/2 [==============================] - 2s 722ms/step - loss: 2.7638 - acc: 0.9327 - val_loss: 2.7674 - val_acc: 0.9615\n",
            "Epoch 9/10\n",
            "2/2 [==============================] - 4s 1s/step - loss: 2.7639 - acc: 0.9327 - val_loss: 2.7671 - val_acc: 0.9615\n",
            "Epoch 10/10\n",
            "2/2 [==============================] - 2s 887ms/step - loss: 2.7611 - acc: 0.9327 - val_loss: 2.7584 - val_acc: 0.9615\n"
          ]
        }
      ]
    },
    {
      "cell_type": "markdown",
      "source": [
        "## Пословная векторизация"
      ],
      "metadata": {
        "id": "mDJTC-ODzACe"
      },
      "id": "mDJTC-ODzACe"
    },
    {
      "cell_type": "code",
      "source": [
        "vectorizer = tf.keras.layers.TextVectorization(split='whitespace')\n",
        "\n",
        "print('Training vectorizer')\n",
        "vectorizer.adapt(list(train[\"Lyric\"]))"
      ],
      "metadata": {
        "colab": {
          "base_uri": "https://localhost:8080/"
        },
        "id": "1Zq_StxOzAt1",
        "outputId": "a8bca00a-bdd9-4aae-af87-39411464eac2"
      },
      "id": "1Zq_StxOzAt1",
      "execution_count": 27,
      "outputs": [
        {
          "output_type": "stream",
          "name": "stdout",
          "text": [
            "Training vectorizer\n"
          ]
        }
      ]
    },
    {
      "cell_type": "markdown",
      "source": [
        "## Многослойная LSTM-модель"
      ],
      "metadata": {
        "id": "4UpNmrQAzFsV"
      },
      "id": "4UpNmrQAzFsV"
    },
    {
      "cell_type": "code",
      "source": [
        "model = keras.Sequential()\n",
        "model.add(vectorizer)\n",
        "model.add(layers.Embedding(input_dim=40000, output_dim=64, mask_zero=True))\n",
        "model.add(layers.LSTM(8, return_sequences=True))\n",
        "model.add(layers.LSTM(4))\n",
        "model.add(layers.Dense(100, activation = 'tanh'))\n",
        "model.add(layers.Dense(100, activation = 'tanh'))\n",
        "model.summary()"
      ],
      "metadata": {
        "colab": {
          "base_uri": "https://localhost:8080/"
        },
        "id": "tPaOChRBzGoY",
        "outputId": "a5b3f0b1-a8b7-4c00-ff24-617d2f2bab61"
      },
      "id": "tPaOChRBzGoY",
      "execution_count": 28,
      "outputs": [
        {
          "output_type": "stream",
          "name": "stdout",
          "text": [
            "Model: \"sequential_5\"\n",
            "_________________________________________________________________\n",
            " Layer (type)                Output Shape              Param #   \n",
            "=================================================================\n",
            " text_vectorization_8 (TextV  (None, None)             0         \n",
            " ectorization)                                                   \n",
            "                                                                 \n",
            " embedding_5 (Embedding)     (None, None, 64)          2560000   \n",
            "                                                                 \n",
            " lstm_1 (LSTM)               (None, None, 8)           2336      \n",
            "                                                                 \n",
            " lstm_2 (LSTM)               (None, 4)                 208       \n",
            "                                                                 \n",
            " dense_5 (Dense)             (None, 100)               500       \n",
            "                                                                 \n",
            " dense_6 (Dense)             (None, 100)               10100     \n",
            "                                                                 \n",
            "=================================================================\n",
            "Total params: 2,573,144\n",
            "Trainable params: 2,573,144\n",
            "Non-trainable params: 0\n",
            "_________________________________________________________________\n"
          ]
        }
      ]
    },
    {
      "cell_type": "code",
      "source": [
        "model.compile(keras.optimizers.Adam(0.01), keras.losses.SparseCategoricalCrossentropy(from_logits=True), ['acc'])\n",
        "train_model = model.fit(x=x, y=y, batch_size=64, epochs = 10, validation_data=(test_x, test_y))"
      ],
      "metadata": {
        "colab": {
          "base_uri": "https://localhost:8080/"
        },
        "id": "pjV87yP3zKxQ",
        "outputId": "92bbd48f-f091-4fc8-dc81-f36d5bee2b38"
      },
      "id": "pjV87yP3zKxQ",
      "execution_count": 29,
      "outputs": [
        {
          "output_type": "stream",
          "name": "stdout",
          "text": [
            "Epoch 1/10\n",
            "2/2 [==============================] - 9s 2s/step - loss: 4.5343 - acc: 0.3750 - val_loss: 4.1300 - val_acc: 0.9615\n",
            "Epoch 2/10\n",
            "2/2 [==============================] - 1s 308ms/step - loss: 3.9648 - acc: 0.9327 - val_loss: 3.4499 - val_acc: 0.9615\n",
            "Epoch 3/10\n",
            "2/2 [==============================] - 1s 374ms/step - loss: 3.3562 - acc: 0.9423 - val_loss: 3.0176 - val_acc: 0.9615\n",
            "Epoch 4/10\n",
            "2/2 [==============================] - 1s 354ms/step - loss: 2.9729 - acc: 0.9423 - val_loss: 2.8345 - val_acc: 0.9615\n",
            "Epoch 5/10\n",
            "2/2 [==============================] - 1s 339ms/step - loss: 2.8131 - acc: 0.9423 - val_loss: 2.7977 - val_acc: 0.9615\n",
            "Epoch 6/10\n",
            "2/2 [==============================] - 1s 328ms/step - loss: 2.7727 - acc: 0.9423 - val_loss: 2.7942 - val_acc: 0.9615\n",
            "Epoch 7/10\n",
            "2/2 [==============================] - 1s 340ms/step - loss: 2.7680 - acc: 0.9423 - val_loss: 2.7941 - val_acc: 0.9615\n",
            "Epoch 8/10\n",
            "2/2 [==============================] - 1s 362ms/step - loss: 2.7646 - acc: 0.9423 - val_loss: 2.7939 - val_acc: 0.9615\n",
            "Epoch 9/10\n",
            "2/2 [==============================] - 1s 369ms/step - loss: 2.7612 - acc: 0.9423 - val_loss: 2.7924 - val_acc: 0.9615\n",
            "Epoch 10/10\n",
            "2/2 [==============================] - 1s 355ms/step - loss: 2.7553 - acc: 0.9327 - val_loss: 2.7876 - val_acc: 0.9615\n"
          ]
        }
      ]
    },
    {
      "cell_type": "markdown",
      "source": [
        "## Пословная векторизация"
      ],
      "metadata": {
        "id": "0h2X1eWgzNHH"
      },
      "id": "0h2X1eWgzNHH"
    },
    {
      "cell_type": "code",
      "source": [
        "vectorizer = tf.keras.layers.TextVectorization(split='whitespace')\n",
        "\n",
        "print('Training vectorizer')\n",
        "vectorizer.adapt(list(train[\"Lyric\"]))"
      ],
      "metadata": {
        "colab": {
          "base_uri": "https://localhost:8080/"
        },
        "id": "lkFE5eaYzN2f",
        "outputId": "02e60a65-7a0d-4dba-95ed-83cc0fa6f2ee"
      },
      "id": "lkFE5eaYzN2f",
      "execution_count": 30,
      "outputs": [
        {
          "output_type": "stream",
          "name": "stdout",
          "text": [
            "Training vectorizer\n"
          ]
        }
      ]
    },
    {
      "cell_type": "markdown",
      "source": [
        "## Двунаправленая LSTM-модель"
      ],
      "metadata": {
        "id": "XHEJ2YiSzQ1B"
      },
      "id": "XHEJ2YiSzQ1B"
    },
    {
      "cell_type": "code",
      "source": [
        "model = keras.Sequential()\n",
        "model.add(vectorizer)\n",
        "model.add(layers.Embedding(input_dim=40000, output_dim=16, mask_zero=True))\n",
        "model.add(layers.Bidirectional(keras.layers.LSTM(8), merge_mode='concat')),\n",
        "model.add(layers.Dense(100, activation = 'tanh'))\n",
        "model.summary()"
      ],
      "metadata": {
        "colab": {
          "base_uri": "https://localhost:8080/"
        },
        "id": "PSzsRMiwzRKf",
        "outputId": "c2d6d7be-17d3-41d2-e774-2cd30c85222e"
      },
      "id": "PSzsRMiwzRKf",
      "execution_count": 31,
      "outputs": [
        {
          "output_type": "stream",
          "name": "stdout",
          "text": [
            "Model: \"sequential_6\"\n",
            "_________________________________________________________________\n",
            " Layer (type)                Output Shape              Param #   \n",
            "=================================================================\n",
            " text_vectorization_9 (TextV  (None, None)             0         \n",
            " ectorization)                                                   \n",
            "                                                                 \n",
            " embedding_6 (Embedding)     (None, None, 16)          640000    \n",
            "                                                                 \n",
            " bidirectional (Bidirectiona  (None, 16)               1600      \n",
            " l)                                                              \n",
            "                                                                 \n",
            " dense_7 (Dense)             (None, 100)               1700      \n",
            "                                                                 \n",
            "=================================================================\n",
            "Total params: 643,300\n",
            "Trainable params: 643,300\n",
            "Non-trainable params: 0\n",
            "_________________________________________________________________\n"
          ]
        }
      ]
    },
    {
      "cell_type": "code",
      "source": [
        "model.compile(keras.optimizers.Adam(0.01), keras.losses.SparseCategoricalCrossentropy(from_logits=True), ['acc'])\n",
        "train_model = model.fit(x=x, y=y, batch_size=64, epochs = 20, validation_data=(test_x, test_y))"
      ],
      "metadata": {
        "colab": {
          "base_uri": "https://localhost:8080/"
        },
        "id": "bkAAVCpQzU-Q",
        "outputId": "e2dc31c9-5d62-483f-a415-8540720b173d"
      },
      "id": "bkAAVCpQzU-Q",
      "execution_count": 32,
      "outputs": [
        {
          "output_type": "stream",
          "name": "stdout",
          "text": [
            "Epoch 1/20\n",
            "2/2 [==============================] - 9s 3s/step - loss: 4.5841 - acc: 0.3558 - val_loss: 4.4741 - val_acc: 0.9615\n",
            "Epoch 2/20\n",
            "2/2 [==============================] - 1s 295ms/step - loss: 4.4184 - acc: 0.9423 - val_loss: 4.2264 - val_acc: 0.9615\n",
            "Epoch 3/20\n",
            "2/2 [==============================] - 1s 294ms/step - loss: 4.1089 - acc: 0.9327 - val_loss: 3.8159 - val_acc: 0.9615\n",
            "Epoch 4/20\n",
            "2/2 [==============================] - 1s 308ms/step - loss: 3.6912 - acc: 0.9327 - val_loss: 3.4206 - val_acc: 0.9615\n",
            "Epoch 5/20\n",
            "2/2 [==============================] - 1s 284ms/step - loss: 3.3323 - acc: 0.9327 - val_loss: 3.1417 - val_acc: 0.9615\n",
            "Epoch 6/20\n",
            "2/2 [==============================] - 1s 506ms/step - loss: 3.0890 - acc: 0.9327 - val_loss: 2.9755 - val_acc: 0.9615\n",
            "Epoch 7/20\n",
            "2/2 [==============================] - 1s 592ms/step - loss: 2.9455 - acc: 0.9327 - val_loss: 2.8823 - val_acc: 0.9615\n",
            "Epoch 8/20\n",
            "2/2 [==============================] - 1s 286ms/step - loss: 2.8643 - acc: 0.9327 - val_loss: 2.8315 - val_acc: 0.9615\n",
            "Epoch 9/20\n",
            "2/2 [==============================] - 1s 285ms/step - loss: 2.8200 - acc: 0.9327 - val_loss: 2.8047 - val_acc: 0.9615\n",
            "Epoch 10/20\n",
            "2/2 [==============================] - 1s 273ms/step - loss: 2.7962 - acc: 0.9327 - val_loss: 2.7906 - val_acc: 0.9615\n",
            "Epoch 11/20\n",
            "2/2 [==============================] - 1s 271ms/step - loss: 2.7844 - acc: 0.9327 - val_loss: 2.7828 - val_acc: 0.9615\n",
            "Epoch 12/20\n",
            "2/2 [==============================] - 0s 252ms/step - loss: 2.7768 - acc: 0.9327 - val_loss: 2.7763 - val_acc: 0.9615\n",
            "Epoch 13/20\n",
            "2/2 [==============================] - 0s 246ms/step - loss: 2.7726 - acc: 0.9327 - val_loss: 2.7701 - val_acc: 0.9615\n",
            "Epoch 14/20\n",
            "2/2 [==============================] - 0s 242ms/step - loss: 2.7689 - acc: 0.9327 - val_loss: 2.7648 - val_acc: 0.9615\n",
            "Epoch 15/20\n",
            "2/2 [==============================] - 1s 297ms/step - loss: 2.7665 - acc: 0.9327 - val_loss: 2.7597 - val_acc: 0.9615\n",
            "Epoch 16/20\n",
            "2/2 [==============================] - 1s 271ms/step - loss: 2.7653 - acc: 0.9327 - val_loss: 2.7536 - val_acc: 0.9615\n",
            "Epoch 17/20\n",
            "2/2 [==============================] - 1s 280ms/step - loss: 2.7637 - acc: 0.9327 - val_loss: 2.7479 - val_acc: 0.9615\n",
            "Epoch 18/20\n",
            "2/2 [==============================] - 1s 279ms/step - loss: 2.7637 - acc: 0.9327 - val_loss: 2.7438 - val_acc: 0.9615\n",
            "Epoch 19/20\n",
            "2/2 [==============================] - 1s 267ms/step - loss: 2.7639 - acc: 0.9327 - val_loss: 2.7434 - val_acc: 0.9615\n",
            "Epoch 20/20\n",
            "2/2 [==============================] - 1s 279ms/step - loss: 2.7639 - acc: 0.9327 - val_loss: 2.7436 - val_acc: 0.9615\n"
          ]
        }
      ]
    }
  ],
  "metadata": {
    "kernelspec": {
      "display_name": "Python 3 (ipykernel)",
      "language": "python",
      "name": "python3"
    },
    "language_info": {
      "codemirror_mode": {
        "name": "ipython",
        "version": 3
      },
      "file_extension": ".py",
      "mimetype": "text/x-python",
      "name": "python",
      "nbconvert_exporter": "python",
      "pygments_lexer": "ipython3",
      "version": "3.11.3"
    },
    "colab": {
      "provenance": []
    }
  },
  "nbformat": 4,
  "nbformat_minor": 5
}